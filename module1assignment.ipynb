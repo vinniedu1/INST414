{
 "cells": [
  {
   "cell_type": "code",
   "execution_count": 1,
   "id": "024c7f94",
   "metadata": {},
   "outputs": [],
   "source": [
    "import pandas as pd\n",
    "import numpy as np\n",
    "import seaborn as sns\n",
    "import matplotlib.pyplot as plt\n",
    "\n",
    "# Load in csv file\n",
    "df = pd.read_csv(\"Crash_Reporting_-_Drivers_Data.csv\",low_memory = False)\n",
    "df = df.replace(r'^\\s*$', np.nan, regex=True)\n",
    "\n",
    "# Drop rows missing key info\n",
    "key_cols = [\"Injury Severity\", \"Route Type\", \"Report Number\"]\n",
    "df = df.dropna(subset=key_cols).reset_index(drop=True)\n",
    "\n",
    "# Simplify Injury Severity\n",
    "def simplify_severity(x):\n",
    "    if pd.isna(x): return np.nan\n",
    "    s = str(x).upper()\n",
    "    if \"FATAL\" in s: return \"Fatal\"\n",
    "    if \"SERIOUS\" in s: return \"Serious\"\n",
    "    if \"MINOR\" in s or \"POSSIBLE\" in s: return \"Minor/Possible\"\n",
    "    if \"NO APPARENT\" in s: return \"No Injury\"\n",
    "    return np.nan\n",
    "\n",
    "df[\"severity\"] = df[\"Injury Severity\"].apply(simplify_severity)\n",
    "df[\"severe_flag\"] = df[\"severity\"].isin([\"Fatal\", \"Serious\"])\n",
    "\n",
    "# Clean up route type text\n",
    "df[\"route_type\"] = df[\"Route Type\"].astype(str).str.title().str.strip()\n",
    "\n",
    "# Create Road Group Category\n",
    "highway_types = [\"Interstate (State)\",\"Us (State)\",\"Maryland (State)\", \"Maryland (State) Route\",\"Ramp\"]\n",
    "local_types = [\"County Route\",\"Municipality Route\",\"Municipality\", \"Private Route\",\"Other Public Roadway\"]\n",
    "\n",
    "def group_roads(route):\n",
    "    if route in highway_types:\n",
    "        return \"Highway / Freeway\"\n",
    "    elif route in local_types:\n",
    "        return \"Local / Residential\"\n",
    "    else:\n",
    "        return \"Other\"\n",
    "\n",
    "df[\"road_group\"] = df[\"route_type\"].apply(group_roads)\n",
    "summary = (\n",
    "    df.groupby([\"road_group\", \"route_type\"])\n",
    "      .agg(total_crashes=(\"Report Number\", \"count\"),\n",
    "           severe_crashes=(\"severe_flag\", \"sum\"))\n",
    "      .reset_index()\n",
    ")\n",
    "# Calculate percentage of crashes that are severe\n",
    "summary[\"severe_rate\"] = summary[\"severe_crashes\"] / summary[\"total_crashes\"]\n",
    "# Filter for stable data\n",
    "summary = summary[summary[\"total_crashes\"] >= 50]\n",
    "# Split Data into Two Groups\n",
    "highway_data = summary[summary[\"road_group\"] == \"Highway / Freeway\"]\n",
    "local_data = summary[summary[\"road_group\"] == \"Local / Residential\"]\n",
    "\n",
    "\n"
   ]
  },
  {
   "cell_type": "code",
   "execution_count": null,
   "id": "25c47842",
   "metadata": {},
   "outputs": [],
   "source": [
    "# Figure 1 (Severity Rates for Highways/Freeways)\n",
    "plt.figure(figsize=(8, 5))\n",
    "sns.barplot(\n",
    "    data=highway_data.sort_values(\"severe_rate\", ascending=False),\n",
    "    x=\"severe_rate\", y=\"route_type\", color=\"red\"\n",
    ")\n",
    "plt.xlabel(\"Severe Injury Rate\")\n",
    "plt.ylabel(\"Highway Types\")\n",
    "plt.title(\"Severe Injury Rate - Highways/Freeways\")\n",
    "plt.show()\n"
   ]
  },
  {
   "cell_type": "code",
   "execution_count": null,
   "id": "bf4ca6c7",
   "metadata": {},
   "outputs": [],
   "source": [
    "# Figure 2 (Total amount of traffic collisions for Highway/Freeways)\n",
    "plt.figure(figsize=(8, 5))\n",
    "sns.barplot(\n",
    "    data=highway_data.sort_values(\"total_crashes\", ascending=False),\n",
    "    x=\"total_crashes\", y=\"route_type\", color=\"blue\"\n",
    ")\n",
    "plt.xlabel(\"Total Crashes\")\n",
    "plt.ylabel(\"Highway Types\")\n",
    "plt.title(\"Total Crashes - Highways/Freeways\")\n",
    "plt.show()"
   ]
  },
  {
   "cell_type": "code",
   "execution_count": null,
   "id": "4b52fa86",
   "metadata": {},
   "outputs": [],
   "source": [
    "# Figure 3 (Severity Rates for Local/Residential Roads)\n",
    "plt.figure(figsize=(8, 5))\n",
    "sns.barplot(\n",
    "    data=local_data.sort_values(\"severe_rate\", ascending=False),\n",
    "    x=\"severe_rate\", y=\"route_type\", color=\"red\"\n",
    ")\n",
    "plt.xlabel(\"Severe Injury Rate\")\n",
    "plt.ylabel(\"Local Road Types\")\n",
    "plt.title(\"Severe Injury Rate - Local/Residential Roads\")\n",
    "plt.show()"
   ]
  },
  {
   "cell_type": "code",
   "execution_count": null,
   "id": "dfd99c96",
   "metadata": {},
   "outputs": [],
   "source": [
    "# Figure 4 (Total amount of traffic collisions for Local/Residential Roads)\n",
    "plt.figure(figsize=(8, 5))\n",
    "sns.barplot(\n",
    "    data=local_data.sort_values(\"total_crashes\", ascending=False),\n",
    "    x=\"total_crashes\", y=\"route_type\", color=\"blue\"\n",
    ")\n",
    "plt.xlabel(\"Total Crashes\")\n",
    "plt.ylabel(\"Local Road Types\")\n",
    "plt.title(\"Total Crashes - Local/Residential Roads\")\n",
    "plt.show()"
   ]
  }
 ],
 "metadata": {
  "kernelspec": {
   "display_name": "Python 3",
   "language": "python",
   "name": "python3"
  },
  "language_info": {
   "codemirror_mode": {
    "name": "ipython",
    "version": 3
   },
   "file_extension": ".py",
   "mimetype": "text/x-python",
   "name": "python",
   "nbconvert_exporter": "python",
   "pygments_lexer": "ipython3",
   "version": "3.12.5"
  }
 },
 "nbformat": 4,
 "nbformat_minor": 5
}
